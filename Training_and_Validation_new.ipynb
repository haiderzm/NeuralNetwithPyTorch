{
  "nbformat": 4,
  "nbformat_minor": 0,
  "metadata": {
    "colab": {
      "name": "Training and Validation new.ipynb",
      "version": "0.3.2",
      "provenance": [],
      "include_colab_link": true
    },
    "kernelspec": {
      "name": "python3",
      "display_name": "Python 3"
    },
    "accelerator": "GPU"
  },
  "cells": [
    {
      "cell_type": "markdown",
      "metadata": {
        "id": "view-in-github",
        "colab_type": "text"
      },
      "source": [
        "<a href=\"https://colab.research.google.com/github/haiderzm/NeuralNetwithPyTorch/blob/master/Training_and_Validation_new.ipynb\" target=\"_parent\"><img src=\"https://colab.research.google.com/assets/colab-badge.svg\" alt=\"Open In Colab\"/></a>"
      ]
    },
    {
      "cell_type": "code",
      "metadata": {
        "id": "lBIWWpWOsK_z",
        "colab_type": "code",
        "colab": {}
      },
      "source": [
        "import torch\n",
        "import torch.nn as nn\n",
        "import torch.nn.functional as F\n",
        "import numpy as np\n",
        "import matplotlib.pyplot as plt\n",
        "from torchvision import datasets,transforms"
      ],
      "execution_count": 0,
      "outputs": []
    },
    {
      "cell_type": "code",
      "metadata": {
        "id": "XI2UybDnsoih",
        "colab_type": "code",
        "colab": {}
      },
      "source": [
        "transform = transforms.Compose([transforms.ToTensor(),transforms.Normalize((0.5,),(0.5,))])"
      ],
      "execution_count": 0,
      "outputs": []
    },
    {
      "cell_type": "code",
      "metadata": {
        "id": "jIYRhdwis7iC",
        "colab_type": "code",
        "outputId": "d46ec5f3-a147-49f4-86c1-b5221546b168",
        "colab": {
          "base_uri": "https://localhost:8080/",
          "height": 1824
        }
      },
      "source": [
        "trainset = datasets.FashionMNIST('data',train = True, download = True, transform = transform)\n",
        "testset = datasets.FashionMNIST('data',train = False, download = True, transform = transform)"
      ],
      "execution_count": 24,
      "outputs": [
        {
          "output_type": "stream",
          "text": [
            "\n",
            "0it [00:00, ?it/s]\u001b[A"
          ],
          "name": "stderr"
        },
        {
          "output_type": "stream",
          "text": [
            "Downloading http://fashion-mnist.s3-website.eu-central-1.amazonaws.com/train-images-idx3-ubyte.gz to data/FashionMNIST/raw/train-images-idx3-ubyte.gz\n"
          ],
          "name": "stdout"
        },
        {
          "output_type": "stream",
          "text": [
            "\n",
            "  0%|          | 0/26421880 [00:00<?, ?it/s]\u001b[A\n",
            "  0%|          | 16384/26421880 [00:00<02:54, 151487.95it/s]\u001b[A\n",
            "  0%|          | 49152/26421880 [00:00<02:28, 178097.93it/s]\u001b[A\n",
            "  0%|          | 106496/26421880 [00:00<01:58, 222306.04it/s]\u001b[A\n",
            "  1%|          | 229376/26421880 [00:00<01:29, 292916.33it/s]\u001b[A\n",
            "  2%|▏         | 417792/26421880 [00:00<01:06, 390199.64it/s]\u001b[A\n",
            "  3%|▎         | 843776/26421880 [00:00<00:47, 534630.44it/s]\u001b[A\n",
            "  6%|▋         | 1695744/26421880 [00:01<00:33, 742081.79it/s]\u001b[A\n",
            " 13%|█▎        | 3407872/26421880 [00:01<00:22, 1039152.25it/s]\u001b[A\n",
            " 25%|██▍       | 6504448/26421880 [00:01<00:13, 1461663.78it/s]\u001b[A\n",
            " 36%|███▌      | 9461760/26421880 [00:01<00:08, 2041117.30it/s]\u001b[A\n",
            " 47%|████▋     | 12525568/26421880 [00:01<00:04, 2828200.31it/s]\u001b[A\n",
            " 59%|█████▉    | 15654912/26421880 [00:01<00:02, 3877227.44it/s]\u001b[A\n",
            " 71%|███████   | 18743296/26421880 [00:01<00:01, 5232947.87it/s]\u001b[A\n",
            " 83%|████████▎ | 21848064/26421880 [00:01<00:00, 6931983.50it/s]\u001b[A\n",
            " 94%|█████████▍| 24936448/26421880 [00:01<00:00, 8965938.55it/s]\u001b[A\n",
            "26427392it [00:01, 13391021.59it/s]                             \u001b[A"
          ],
          "name": "stderr"
        },
        {
          "output_type": "stream",
          "text": [
            "Extracting data/FashionMNIST/raw/train-images-idx3-ubyte.gz\n"
          ],
          "name": "stdout"
        },
        {
          "output_type": "stream",
          "text": [
            "\n",
            "0it [00:00, ?it/s]\u001b[A"
          ],
          "name": "stderr"
        },
        {
          "output_type": "stream",
          "text": [
            "Downloading http://fashion-mnist.s3-website.eu-central-1.amazonaws.com/train-labels-idx1-ubyte.gz to data/FashionMNIST/raw/train-labels-idx1-ubyte.gz\n"
          ],
          "name": "stdout"
        },
        {
          "output_type": "stream",
          "text": [
            "\n",
            "  0%|          | 0/29515 [00:00<?, ?it/s]\u001b[A\n",
            " 56%|█████▌    | 16384/29515 [00:00<00:00, 156264.80it/s]\u001b[A\n",
            "32768it [00:00, 95245.42it/s]                            \u001b[A\n",
            "0it [00:00, ?it/s]\u001b[A"
          ],
          "name": "stderr"
        },
        {
          "output_type": "stream",
          "text": [
            "Extracting data/FashionMNIST/raw/train-labels-idx1-ubyte.gz\n",
            "Downloading http://fashion-mnist.s3-website.eu-central-1.amazonaws.com/t10k-images-idx3-ubyte.gz to data/FashionMNIST/raw/t10k-images-idx3-ubyte.gz\n"
          ],
          "name": "stdout"
        },
        {
          "output_type": "stream",
          "text": [
            "\n",
            "  0%|          | 0/4422102 [00:00<?, ?it/s]\u001b[A\n",
            "  0%|          | 16384/4422102 [00:00<00:28, 154209.55it/s]\u001b[A\n",
            "  1%|          | 49152/4422102 [00:00<00:24, 181307.40it/s]\u001b[A\n",
            "  2%|▏         | 106496/4422102 [00:00<00:19, 226302.89it/s]\u001b[A\n",
            "  5%|▌         | 229376/4422102 [00:00<00:14, 298187.88it/s]\u001b[A\n",
            " 11%|█         | 466944/4422102 [00:00<00:09, 402868.05it/s]\u001b[A\n",
            " 21%|██▏       | 950272/4422102 [00:00<00:06, 554407.08it/s]\u001b[A\n",
            " 40%|███▉      | 1761280/4422102 [00:00<00:03, 767971.04it/s]\u001b[A\n",
            " 80%|███████▉  | 3530752/4422102 [00:01<00:00, 1075733.16it/s]\u001b[A\n",
            "4423680it [00:01, 4026606.99it/s]                             \u001b[A\n",
            "0it [00:00, ?it/s]\u001b[A"
          ],
          "name": "stderr"
        },
        {
          "output_type": "stream",
          "text": [
            "Extracting data/FashionMNIST/raw/t10k-images-idx3-ubyte.gz\n",
            "Downloading http://fashion-mnist.s3-website.eu-central-1.amazonaws.com/t10k-labels-idx1-ubyte.gz to data/FashionMNIST/raw/t10k-labels-idx1-ubyte.gz\n"
          ],
          "name": "stdout"
        },
        {
          "output_type": "stream",
          "text": [
            "\n",
            "  0%|          | 0/5148 [00:00<?, ?it/s]\u001b[A\n",
            "8192it [00:00, 24917.92it/s]            \u001b[A"
          ],
          "name": "stderr"
        },
        {
          "output_type": "stream",
          "text": [
            "Extracting data/FashionMNIST/raw/t10k-labels-idx1-ubyte.gz\n",
            "Processing...\n",
            "Done!\n"
          ],
          "name": "stdout"
        }
      ]
    },
    {
      "cell_type": "code",
      "metadata": {
        "id": "htm15WeEtXS9",
        "colab_type": "code",
        "colab": {}
      },
      "source": [
        "trainloader = torch.utils.data.DataLoader(trainset,batch_size=64)\n",
        "testloader = torch.utils.data.DataLoader(testset,batch_size=64)"
      ],
      "execution_count": 0,
      "outputs": []
    },
    {
      "cell_type": "code",
      "metadata": {
        "id": "EKo-xKhjtpAX",
        "colab_type": "code",
        "colab": {}
      },
      "source": [
        "class Net(nn.Module):\n",
        "    def __init__(self):\n",
        "        super().__init__()\n",
        "        \n",
        "        self.fc1 = nn.Linear(784,256)\n",
        "        self.fc2 = nn.Linear(256,128)\n",
        "        self.fc3 = nn.Linear(128,10)\n",
        "        self.dropout = nn.Dropout(p=0.2)\n",
        "        \n",
        "    def forward(self,x):\n",
        "        \n",
        "        x = x.view(x.shape[0],-1)\n",
        "        x = self.dropout(F.relu(self.fc1(x)))\n",
        "        x = self.dropout(F.relu(self.fc2(x)))\n",
        "        x = F.softmax(self.fc3(x),dim=1)\n",
        "        \n",
        "        return x"
      ],
      "execution_count": 0,
      "outputs": []
    },
    {
      "cell_type": "code",
      "metadata": {
        "id": "RA1ySB0ZusA3",
        "colab_type": "code",
        "colab": {}
      },
      "source": [
        "device = \"cuda:0\" if torch.cuda.is_available else \"cpu\""
      ],
      "execution_count": 0,
      "outputs": []
    },
    {
      "cell_type": "code",
      "metadata": {
        "id": "XS7Tb4Imu1Tj",
        "colab_type": "code",
        "outputId": "c2e666ba-fc52-4251-b22f-ca2e2c72a287",
        "colab": {
          "base_uri": "https://localhost:8080/",
          "height": 120
        }
      },
      "source": [
        "model = Net()\n",
        "model.to(device)"
      ],
      "execution_count": 8,
      "outputs": [
        {
          "output_type": "execute_result",
          "data": {
            "text/plain": [
              "Net(\n",
              "  (fc1): Linear(in_features=784, out_features=256, bias=True)\n",
              "  (fc2): Linear(in_features=256, out_features=128, bias=True)\n",
              "  (fc3): Linear(in_features=128, out_features=10, bias=True)\n",
              "  (dropout): Dropout(p=0.2)\n",
              ")"
            ]
          },
          "metadata": {
            "tags": []
          },
          "execution_count": 8
        }
      ]
    },
    {
      "cell_type": "code",
      "metadata": {
        "id": "2kTRRhCBu_p2",
        "colab_type": "code",
        "colab": {}
      },
      "source": [
        "criterion = nn.CrossEntropyLoss()\n",
        "optimizer = torch.optim.SGD(model.parameters(),lr=0.01,momentum=0.9)\n",
        "acc_arr=[]"
      ],
      "execution_count": 0,
      "outputs": []
    },
    {
      "cell_type": "code",
      "metadata": {
        "id": "K2xnfe7kvjEV",
        "colab_type": "code",
        "outputId": "f72677a9-4d03-4dff-ebc4-4c8b8cf6cda4",
        "colab": {
          "base_uri": "https://localhost:8080/",
          "height": 1960
        }
      },
      "source": [
        "num_epochs=50\n",
        "testing_loss=[]\n",
        "training_loss=[]\n",
        "def testset_accuracy(epoch):\n",
        "    correct = 0\n",
        "    total = 0\n",
        "    testloss = 0\n",
        "    \n",
        "    with torch.no_grad():\n",
        "        for data in testloader:\n",
        "            images,labels = data\n",
        "            images,labels = images.to(device),labels.to(device)\n",
        "            outputs = model(images)\n",
        "            testloss+=criterion (outputs,labels)\n",
        "            _,predicted = torch.max(outputs.data,1)\n",
        "            total += labels.size(0)\n",
        "            correct += (predicted == labels).sum().item()\n",
        "            \n",
        "        acc_arr.append(100*correct/total)\n",
        "        testing_loss.append(testloss.item())\n",
        "        print('Epoch :',epoch,'Test Accuracy : %d %%' %(100*correct/total))\n",
        "        \n",
        "        \n",
        "#training\n",
        "\n",
        "for epoch in range(num_epochs):\n",
        "    running_loss = 0\n",
        "    for i,data in enumerate(trainloader,0):\n",
        "        images,labels = data\n",
        "        images,labels = images.to(device),labels.to(device)\n",
        "        optimizer.zero_grad()\n",
        "        \n",
        "        outputs = model(images)\n",
        "        \n",
        "        loss = criterion(outputs,labels)\n",
        "        \n",
        "        loss.backward()\n",
        "        \n",
        "        optimizer.step()\n",
        "        \n",
        "        running_loss += loss.item()\n",
        "        \n",
        "    training_loss.append(running_loss)\n",
        "    testset_accuracy(epoch+1)\n",
        "    \n",
        "  \n"
      ],
      "execution_count": 31,
      "outputs": [
        {
          "output_type": "stream",
          "text": [
            "Epoch : 1 Test Accuracy : 78 %\n",
            "Epoch : 2 Test Accuracy : 78 %\n",
            "Epoch : 3 Test Accuracy : 78 %\n",
            "Epoch : 4 Test Accuracy : 78 %\n",
            "Epoch : 5 Test Accuracy : 78 %\n",
            "Epoch : 6 Test Accuracy : 86 %\n",
            "Epoch : 7 Test Accuracy : 86 %\n",
            "Epoch : 8 Test Accuracy : 87 %\n",
            "Epoch : 9 Test Accuracy : 87 %\n",
            "Epoch : 10 Test Accuracy : 87 %\n",
            "Epoch : 11 Test Accuracy : 87 %\n",
            "Epoch : 12 Test Accuracy : 87 %\n",
            "Epoch : 13 Test Accuracy : 87 %\n",
            "Epoch : 14 Test Accuracy : 87 %\n",
            "Epoch : 15 Test Accuracy : 87 %\n",
            "Epoch : 16 Test Accuracy : 87 %\n",
            "Epoch : 17 Test Accuracy : 87 %\n",
            "Epoch : 18 Test Accuracy : 87 %\n",
            "Epoch : 19 Test Accuracy : 87 %\n",
            "Epoch : 20 Test Accuracy : 87 %\n",
            "Epoch : 21 Test Accuracy : 87 %\n",
            "Epoch : 22 Test Accuracy : 87 %\n",
            "Epoch : 23 Test Accuracy : 87 %\n",
            "Epoch : 24 Test Accuracy : 87 %\n",
            "Epoch : 25 Test Accuracy : 87 %\n",
            "Epoch : 26 Test Accuracy : 87 %\n",
            "Epoch : 27 Test Accuracy : 87 %\n",
            "Epoch : 28 Test Accuracy : 87 %\n",
            "Epoch : 29 Test Accuracy : 87 %\n",
            "Epoch : 30 Test Accuracy : 87 %\n",
            "Epoch : 31 Test Accuracy : 87 %\n",
            "Epoch : 32 Test Accuracy : 88 %\n",
            "Epoch : 33 Test Accuracy : 87 %\n",
            "Epoch : 34 Test Accuracy : 88 %\n",
            "Epoch : 35 Test Accuracy : 87 %\n",
            "Epoch : 36 Test Accuracy : 87 %\n",
            "Epoch : 37 Test Accuracy : 87 %\n",
            "Epoch : 38 Test Accuracy : 87 %\n",
            "Epoch : 39 Test Accuracy : 87 %\n",
            "Epoch : 40 Test Accuracy : 88 %\n",
            "Epoch : 41 Test Accuracy : 87 %\n",
            "Epoch : 42 Test Accuracy : 87 %\n",
            "Epoch : 43 Test Accuracy : 87 %\n",
            "Epoch : 44 Test Accuracy : 88 %\n",
            "Epoch : 45 Test Accuracy : 88 %\n",
            "Epoch : 46 Test Accuracy : 88 %\n",
            "Epoch : 47 Test Accuracy : 88 %\n",
            "Epoch : 48 Test Accuracy : 87 %\n",
            "Epoch : 49 Test Accuracy : 88 %\n",
            "Epoch : 50 Test Accuracy : 88 %\n"
          ],
          "name": "stdout"
        }
      ]
    },
    {
      "cell_type": "code",
      "metadata": {
        "id": "B5-Qn2hK3Tl8",
        "colab_type": "code",
        "colab": {
          "base_uri": "https://localhost:8080/",
          "height": 286
        },
        "outputId": "b2757a50-bf94-4855-ee17-9cd93b20580d"
      },
      "source": [
        "plt.plot(training_loss,label='training')\n",
        "plt.plot(testing_loss, label='testing')"
      ],
      "execution_count": 32,
      "outputs": [
        {
          "output_type": "execute_result",
          "data": {
            "text/plain": [
              "[<matplotlib.lines.Line2D at 0x7fcc00f729e8>]"
            ]
          },
          "metadata": {
            "tags": []
          },
          "execution_count": 32
        },
        {
          "output_type": "display_data",
          "data": {
            "image/png": "[encoded data removed]",
            "text/plain": [
              "<Figure size 432x288 with 1 Axes>"
            ]
          },
          "metadata": {
            "tags": []
          }
        }
      ]
    },
    {
      "cell_type": "code",
      "metadata": {
        "id": "iwA5vHBg3WyN",
        "colab_type": "code",
        "colab": {}
      },
      "source": [
        ""
      ],
      "execution_count": 0,
      "outputs": []
    },
    {
      "cell_type": "code",
      "metadata": {
        "id": "p5XjlTVVzOUu",
        "colab_type": "code",
        "colab": {}
      },
      "source": [
        "img,lab = next(iter(testloader))\n",
        "img,lab= img.to(device),lab.to(device)"
      ],
      "execution_count": 0,
      "outputs": []
    },
    {
      "cell_type": "code",
      "metadata": {
        "id": "BXN7BGRg3fN2",
        "colab_type": "code",
        "colab": {
          "base_uri": "https://localhost:8080/",
          "height": 338
        },
        "outputId": "3dfece6f-5eea-4fe8-df31-21cb30f2c697"
      },
      "source": [
        "I = 5\n",
        "print (model(img[I]))\n",
        "plt.imshow(img[I].cpu().numpy().squeeze())"
      ],
      "execution_count": 34,
      "outputs": [
        {
          "output_type": "stream",
          "text": [
            "tensor([[3.7799e-21, 1.0000e+00, 1.5272e-25, 3.3615e-18, 2.5528e-24, 3.2028e-32,\n",
            "         9.8926e-38, 2.4341e-18, 5.0806e-31, 3.7914e-23]], device='cuda:0',\n",
            "       grad_fn=<SoftmaxBackward>)\n"
          ],
          "name": "stdout"
        },
        {
          "output_type": "execute_result",
          "data": {
            "text/plain": [
              "<matplotlib.image.AxesImage at 0x7fcc0ee77d30>"
            ]
          },
          "metadata": {
            "tags": []
          },
          "execution_count": 34
        },
        {
          "output_type": "display_data",
          "data": {
            "image/png": "[encoded data removed]",
            "text/plain": [
              "<Figure size 432x288 with 1 Axes>"
            ]
          },
          "metadata": {
            "tags": []
          }
        }
      ]
    }
  ]
}