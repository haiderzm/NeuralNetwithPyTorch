{
  "nbformat": 4,
  "nbformat_minor": 0,
  "metadata": {
    "colab": {
      "name": "CIFAR10 Conv Net.ipynb",
      "version": "0.3.2",
      "provenance": [],
      "collapsed_sections": [],
      "include_colab_link": true
    },
    "kernelspec": {
      "name": "python3",
      "display_name": "Python 3"
    },
    "accelerator": "GPU"
  },
  "cells": [
    {
      "cell_type": "markdown",
      "metadata": {
        "id": "view-in-github",
        "colab_type": "text"
      },
      "source": [
        "<a href=\"https://colab.research.google.com/github/haiderzm/NeuralNetwithPyTorch/blob/master/CIFAR10_Conv_Net.ipynb\" target=\"_parent\"><img src=\"https://colab.research.google.com/assets/colab-badge.svg\" alt=\"Open In Colab\"/></a>"
      ]
    },
    {
      "cell_type": "code",
      "metadata": {
        "id": "A0Mb0rxDyOHH",
        "colab_type": "code",
        "colab": {}
      },
      "source": [
        "import torch\n",
        "import torch.nn as nn\n",
        "import torch.nn.functional as F\n",
        "from torchvision import datasets,transforms\n",
        "import matplotlib.pyplot as plt\n",
        "import numpy as np"
      ],
      "execution_count": 0,
      "outputs": []
    },
    {
      "cell_type": "code",
      "metadata": {
        "id": "StN7MRUByte9",
        "colab_type": "code",
        "colab": {}
      },
      "source": [
        "transform = transforms.Compose([transforms.ToTensor(),transforms.Normalize((0.35,0.35,0.35),(0.33,0.33,0.33))])"
      ],
      "execution_count": 0,
      "outputs": []
    },
    {
      "cell_type": "code",
      "metadata": {
        "id": "CqhlkQCzzGG4",
        "colab_type": "code",
        "colab": {
          "base_uri": "https://localhost:8080/",
          "height": 72
        },
        "outputId": "6bbc62a3-4946-4abf-c960-1f8e2200ea94"
      },
      "source": [
        "trainset = datasets.CIFAR10(root='.\\data',train=True,download=True,transform=transform)\n",
        "trainloader = torch.utils.data.DataLoader(trainset,batch_size = 64)\n",
        "images,labels = next(iter(trainloader))"
      ],
      "execution_count": 4,
      "outputs": [
        {
          "output_type": "stream",
          "text": [
            "\r0it [00:00, ?it/s]"
          ],
          "name": "stderr"
        },
        {
          "output_type": "stream",
          "text": [
            "Downloading https://www.cs.toronto.edu/~kriz/cifar-10-python.tar.gz to .\\data/cifar-10-python.tar.gz\n"
          ],
          "name": "stdout"
        },
        {
          "output_type": "stream",
          "text": [
            "100%|█████████▉| 170352640/170498071 [00:42<00:00, 2958847.91it/s]"
          ],
          "name": "stderr"
        }
      ]
    },
    {
      "cell_type": "code",
      "metadata": {
        "id": "LMX0Oh3PzzMe",
        "colab_type": "code",
        "colab": {}
      },
      "source": [
        "def imshow(img):\n",
        "    img = img-0.05\n",
        "    plt.imshow(np.transpose(img,(1,2,0)))"
      ],
      "execution_count": 0,
      "outputs": []
    },
    {
      "cell_type": "code",
      "metadata": {
        "id": "YYPHEvNyz62y",
        "colab_type": "code",
        "colab": {
          "base_uri": "https://localhost:8080/",
          "height": 324
        },
        "outputId": "68cfbcd3-c376-474d-8917-8d79153fe1e5"
      },
      "source": [
        "imshow(images[5])\n",
        "print(labels[5])"
      ],
      "execution_count": 6,
      "outputs": [
        {
          "output_type": "stream",
          "text": [
            "Clipping input data to the valid range for imshow with RGB data ([0..1] for floats or [0..255] for integers).\n"
          ],
          "name": "stderr"
        },
        {
          "output_type": "stream",
          "text": [
            "tensor(1)\n"
          ],
          "name": "stdout"
        },
        {
          "output_type": "display_data",
          "data": {
            "image/png": "[encoded data removed]",
            "text/plain": [
              "<Figure size 432x288 with 1 Axes>"
            ]
          },
          "metadata": {
            "tags": []
          }
        }
      ]
    },
    {
      "cell_type": "code",
      "metadata": {
        "id": "fnowKul_1Isq",
        "colab_type": "code",
        "colab": {}
      },
      "source": [
        "device = \"cuda:0\" if torch.cuda.is_available else \"cpu\"\n",
        "classes = ['airplane','automobile','bird','cat','deer','dog','frog','horse','ship','truck']"
      ],
      "execution_count": 0,
      "outputs": []
    },
    {
      "cell_type": "code",
      "metadata": {
        "id": "D6ttFlX54LOT",
        "colab_type": "code",
        "colab": {
          "base_uri": "https://localhost:8080/",
          "height": 35
        },
        "outputId": "b7719f05-a656-4a95-9c57-e26a3a0ff931"
      },
      "source": [
        "testset = datasets.CIFAR10(root='.\\data',train=False,download=True,transform=transform)\n",
        "testloader = torch.utils.data.DataLoader(trainset,batch_size = 64)"
      ],
      "execution_count": 8,
      "outputs": [
        {
          "output_type": "stream",
          "text": [
            "Files already downloaded and verified\n"
          ],
          "name": "stdout"
        }
      ]
    },
    {
      "cell_type": "code",
      "metadata": {
        "id": "FM4_f4sD45jq",
        "colab_type": "code",
        "colab": {}
      },
      "source": [
        "class Net(nn.Module):\n",
        "    def __init__(self):\n",
        "        super().__init__()\n",
        "        \n",
        "        self.conv1 = nn.Conv2d(3 , 16 , 3 , padding = 1)\n",
        "        self.conv2 = nn.Conv2d(16 , 32 , 3 , padding = 1)\n",
        "        self.conv3 = nn.Conv2d(32 , 64 , 3 , padding = 1)\n",
        "        self.pool = nn.MaxPool2d(2 , 2)\n",
        "        \n",
        "        self.fc1 = nn.Linear(64 * 4 * 4, 500)\n",
        "        self.fc2 = nn.Linear(500 , 10)\n",
        "        self.dropout = nn.Dropout(p = 0.2)\n",
        "        \n",
        "    def forward(self,x):\n",
        "        \n",
        "        x = self.pool(F.relu(self.conv1(x)))\n",
        "        x = self.pool(F.relu(self.conv2(x)))\n",
        "        x = self.pool(F.relu(self.conv3(x)))\n",
        "        x = x.view(-1,64*4*4)\n",
        "        x = self.dropout(x)\n",
        "        x = F.relu(self.fc1(x))\n",
        "        x = self.dropout(x)\n",
        "        x = self.fc2(x)\n",
        "        x = F.softmax(x,dim = 1)\n",
        "        \n",
        "        return x\n",
        "        "
      ],
      "execution_count": 0,
      "outputs": []
    },
    {
      "cell_type": "code",
      "metadata": {
        "id": "2hYOcjwD8wUT",
        "colab_type": "code",
        "colab": {
          "base_uri": "https://localhost:8080/",
          "height": 173
        },
        "outputId": "4a4b9b1d-1a07-4bc0-d71b-53828d488ca3"
      },
      "source": [
        "model = Net()\n",
        "model.to(device)"
      ],
      "execution_count": 20,
      "outputs": [
        {
          "output_type": "execute_result",
          "data": {
            "text/plain": [
              "Net(\n",
              "  (conv1): Conv2d(3, 16, kernel_size=(3, 3), stride=(1, 1), padding=(1, 1))\n",
              "  (conv2): Conv2d(16, 32, kernel_size=(3, 3), stride=(1, 1), padding=(1, 1))\n",
              "  (conv3): Conv2d(32, 64, kernel_size=(3, 3), stride=(1, 1), padding=(1, 1))\n",
              "  (pool): MaxPool2d(kernel_size=2, stride=2, padding=0, dilation=1, ceil_mode=False)\n",
              "  (fc1): Linear(in_features=1024, out_features=500, bias=True)\n",
              "  (fc2): Linear(in_features=500, out_features=10, bias=True)\n",
              "  (dropout): Dropout(p=0.2)\n",
              ")"
            ]
          },
          "metadata": {
            "tags": []
          },
          "execution_count": 20
        }
      ]
    },
    {
      "cell_type": "code",
      "metadata": {
        "id": "ji7UQ2Ah836d",
        "colab_type": "code",
        "colab": {}
      },
      "source": [
        "criterion = nn.CrossEntropyLoss()\n",
        "optimizer = torch.optim.Adam(model.parameters(),lr=0.001)"
      ],
      "execution_count": 0,
      "outputs": []
    },
    {
      "cell_type": "code",
      "metadata": {
        "id": "cVCOKNGz9dIs",
        "colab_type": "code",
        "colab": {
          "base_uri": "https://localhost:8080/",
          "height": 884
        },
        "outputId": "3b1949b6-3d1f-4866-d783-51c900de98be"
      },
      "source": [
        "acc_arr = []\n",
        "num_epochs=50\n",
        "testing_loss=[]\n",
        "training_loss=[]\n",
        "def testset_accuracy(epoch):\n",
        "    correct = 0\n",
        "    total = 0\n",
        "    testloss = 0\n",
        "    \n",
        "    with torch.no_grad():\n",
        "        for data in testloader:\n",
        "            images,labels = data\n",
        "            images,labels = images.to(device),labels.to(device)\n",
        "            outputs = model(images)\n",
        "            testloss+=criterion (outputs,labels)\n",
        "            _,predicted = torch.max(outputs.data,1)\n",
        "            total += labels.size(0)\n",
        "            correct += (predicted == labels).sum().item()\n",
        "            \n",
        "        acc_arr.append(100*correct/total)\n",
        "        testing_loss.append(testloss.item())\n",
        "        print('Epoch :',epoch,'Test Accuracy : %d %%' %(100*correct/total))\n",
        "        \n",
        "        \n",
        "for epoch in range(num_epochs):\n",
        "    running_loss = 0\n",
        "    for i,data in enumerate(trainloader,0):\n",
        "        images,labels = data\n",
        "        images,labels = images.to(device),labels.to(device)\n",
        "        optimizer.zero_grad()\n",
        "        \n",
        "        outputs = model(images)\n",
        "        \n",
        "        loss = criterion(outputs,labels)\n",
        "        \n",
        "        loss.backward()\n",
        "        \n",
        "        optimizer.step()\n",
        "        \n",
        "        running_loss += loss.item()\n",
        "        \n",
        "    training_loss.append(running_loss)\n",
        "    testset_accuracy(epoch+1)"
      ],
      "execution_count": 25,
      "outputs": [
        {
          "output_type": "stream",
          "text": [
            "Epoch : 1 Test Accuracy : 45 %\n",
            "Epoch : 2 Test Accuracy : 53 %\n",
            "Epoch : 3 Test Accuracy : 60 %\n",
            "Epoch : 4 Test Accuracy : 61 %\n",
            "Epoch : 5 Test Accuracy : 64 %\n",
            "Epoch : 6 Test Accuracy : 66 %\n",
            "Epoch : 7 Test Accuracy : 68 %\n",
            "Epoch : 8 Test Accuracy : 69 %\n",
            "Epoch : 9 Test Accuracy : 70 %\n",
            "Epoch : 10 Test Accuracy : 72 %\n",
            "Epoch : 11 Test Accuracy : 72 %\n",
            "Epoch : 12 Test Accuracy : 73 %\n",
            "Epoch : 13 Test Accuracy : 70 %\n",
            "Epoch : 14 Test Accuracy : 73 %\n",
            "Epoch : 15 Test Accuracy : 74 %\n",
            "Epoch : 16 Test Accuracy : 76 %\n",
            "Epoch : 17 Test Accuracy : 74 %\n",
            "Epoch : 18 Test Accuracy : 75 %\n",
            "Epoch : 19 Test Accuracy : 76 %\n",
            "Epoch : 20 Test Accuracy : 76 %\n",
            "Epoch : 21 Test Accuracy : 76 %\n",
            "Epoch : 22 Test Accuracy : 78 %\n",
            "Epoch : 23 Test Accuracy : 75 %\n",
            "Epoch : 24 Test Accuracy : 78 %\n",
            "Epoch : 25 Test Accuracy : 76 %\n",
            "Epoch : 26 Test Accuracy : 77 %\n",
            "Epoch : 27 Test Accuracy : 78 %\n",
            "Epoch : 28 Test Accuracy : 77 %\n",
            "Epoch : 29 Test Accuracy : 78 %\n",
            "Epoch : 30 Test Accuracy : 77 %\n",
            "Epoch : 31 Test Accuracy : 78 %\n",
            "Epoch : 32 Test Accuracy : 78 %\n",
            "Epoch : 33 Test Accuracy : 75 %\n",
            "Epoch : 34 Test Accuracy : 78 %\n",
            "Epoch : 35 Test Accuracy : 77 %\n",
            "Epoch : 36 Test Accuracy : 78 %\n",
            "Epoch : 37 Test Accuracy : 78 %\n",
            "Epoch : 38 Test Accuracy : 78 %\n",
            "Epoch : 39 Test Accuracy : 77 %\n",
            "Epoch : 40 Test Accuracy : 78 %\n",
            "Epoch : 41 Test Accuracy : 77 %\n",
            "Epoch : 42 Test Accuracy : 77 %\n",
            "Epoch : 43 Test Accuracy : 78 %\n",
            "Epoch : 44 Test Accuracy : 76 %\n",
            "Epoch : 45 Test Accuracy : 78 %\n",
            "Epoch : 46 Test Accuracy : 78 %\n",
            "Epoch : 47 Test Accuracy : 78 %\n",
            "Epoch : 48 Test Accuracy : 76 %\n",
            "Epoch : 49 Test Accuracy : 77 %\n",
            "Epoch : 50 Test Accuracy : 77 %\n"
          ],
          "name": "stdout"
        }
      ]
    },
    {
      "cell_type": "code",
      "metadata": {
        "id": "T_svUwkS-ed6",
        "colab_type": "code",
        "colab": {
          "base_uri": "https://localhost:8080/",
          "height": 287
        },
        "outputId": "de796b76-4dbb-410e-e406-2ae27196fa4d"
      },
      "source": [
        "plt.plot(testing_loss,label='testing loss')\n",
        "plt.plot(training_loss,label='training loss')"
      ],
      "execution_count": 27,
      "outputs": [
        {
          "output_type": "execute_result",
          "data": {
            "text/plain": [
              "[<matplotlib.lines.Line2D at 0x7f688bdf2860>]"
            ]
          },
          "metadata": {
            "tags": []
          },
          "execution_count": 27
        },
        {
          "output_type": "display_data",
          "data": {
            "image/png": "[encoded data removed]",
            "text/plain": [
              "<Figure size 432x288 with 1 Axes>"
            ]
          },
          "metadata": {
            "tags": []
          }
        }
      ]
    },
    {
      "cell_type": "code",
      "metadata": {
        "id": "WlfDwuQNG4hC",
        "colab_type": "code",
        "colab": {
          "base_uri": "https://localhost:8080/",
          "height": 287
        },
        "outputId": "be6745b2-abe7-4543-9fd2-b6eaef6505f2"
      },
      "source": [
        "plt.plot(acc_arr)"
      ],
      "execution_count": 28,
      "outputs": [
        {
          "output_type": "execute_result",
          "data": {
            "text/plain": [
              "[<matplotlib.lines.Line2D at 0x7f688f94a4a8>]"
            ]
          },
          "metadata": {
            "tags": []
          },
          "execution_count": 28
        },
        {
          "output_type": "display_data",
          "data": {
            "image/png": "[encoded data removed]",
            "text/plain": [
              "<Figure size 432x288 with 1 Axes>"
            ]
          },
          "metadata": {
            "tags": []
          }
        }
      ]
    },
    {
      "cell_type": "code",
      "metadata": {
        "id": "RdtTzWUZLDZA",
        "colab_type": "code",
        "colab": {}
      },
      "source": [
        ""
      ],
      "execution_count": 0,
      "outputs": []
    }
  ]
}